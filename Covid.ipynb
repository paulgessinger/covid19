{
 "cells": [
  {
   "cell_type": "code",
   "execution_count": null,
   "id": "b8831cf2-a36c-4916-9f0e-0e7d6f35c874",
   "metadata": {},
   "outputs": [],
   "source": [
    "import pandas as pd\n",
    "import numpy as np\n",
    "import matplotlib.pyplot as plt\n",
    "import tempfile\n",
    "import requests\n",
    "import zipfile\n",
    "import datetime"
   ]
  },
  {
   "cell_type": "code",
   "execution_count": null,
   "id": "6f625d63-540d-4d2b-a0f8-0715eee3a19e",
   "metadata": {},
   "outputs": [],
   "source": [
    "print(f\"Generated on {datetime.datetime.now()}\")"
   ]
  },
  {
   "cell_type": "code",
   "execution_count": null,
   "id": "1e47ff78-a03b-4697-9ad7-e670dd0612f8",
   "metadata": {},
   "outputs": [],
   "source": [
    "df = pd.read_csv(\"https://covid.ourworldindata.org/data/owid-covid-data.csv\")\n",
    "df.index = pd.to_datetime(df.date)\n",
    "df[\"death_ratio\"] = df.new_deaths_smoothed_per_million / df.new_cases_smoothed_per_million"
   ]
  },
  {
   "cell_type": "code",
   "execution_count": null,
   "id": "8895044c-cac2-4a92-b808-dd3627fab20b",
   "metadata": {},
   "outputs": [],
   "source": [
    "fr_dep_df = pd.read_csv(\"https://www.data.gouv.fr/fr/datasets/r/5c4e1452-3850-4b59-b11c-3dd51d7fb8b5\")\n",
    "fr_dep_df.index = pd.to_datetime(fr_dep_df.date)\n",
    "\n",
    "fr_df = pd.read_csv(\"https://www.data.gouv.fr/fr/datasets/r/f335f9ea-86e3-4ffa-9684-93c009d5e617\")\n",
    "fr_df.index = pd.to_datetime(fr_df.date)"
   ]
  },
  {
   "cell_type": "code",
   "execution_count": null,
   "id": "53fdf4db-cdb0-4d3c-a9c1-50a9a46f4548",
   "metadata": {},
   "outputs": [],
   "source": [
    "r = requests.get(\"https://www.covid19.admin.ch/api/data/context\")\n",
    "url = r.json()[\"sources\"][\"zip\"][\"csv\"]\n",
    "\n",
    "with tempfile.NamedTemporaryFile() as fh:\n",
    "    with requests.get(url, stream=True) as r:\n",
    "        r.raise_for_status()\n",
    "        for chunk in r.iter_content(chunk_size=8192): \n",
    "            fh.write(chunk)\n",
    "    \n",
    "    with zipfile.ZipFile(fh.name) as z:\n",
    "        with z.open(\"data/COVID19Cases_geoRegion.csv\") as fh:\n",
    "            ch_df = pd.read_csv(fh)\n",
    "            \n",
    "ch_df.index = pd.to_datetime(ch_df.datum)\n",
    "    \n",
    "# ch_df = pd.read_csv(\"https://www.covid19.admin.ch/api/data/20210719-wpjcvnzf/downloads/sources-csv.zip\")\n",
    "# ch_df"
   ]
  },
  {
   "cell_type": "code",
   "execution_count": null,
   "id": "3656496e-3f90-48d7-a430-28d8fdafd296",
   "metadata": {},
   "outputs": [],
   "source": [
    "df.columns"
   ]
  },
  {
   "cell_type": "code",
   "execution_count": null,
   "id": "96eed821-5c3d-4024-8ebc-d9013311b69a",
   "metadata": {},
   "outputs": [],
   "source": [
    "fig, axs = plt.subplots(5, 1, figsize=(10, 10), gridspec_kw={\"height_ratios\": [1, 1, 0.75, 0.75, 0.75], \"hspace\": 0.07}, sharex=True)\n",
    "ax1, ax2, ax3, ax4, ax5 = axs\n",
    "for country in (\n",
    "    \"CHE\", \n",
    "    \"FRA\", \n",
    "    \"DEU\", \n",
    "    \"GBR\", \n",
    "    \"USA\",\n",
    "    \"ESP\"\n",
    "):\n",
    "    cdf = df[df.iso_code == country]\n",
    "    \n",
    "    name = cdf.location[0]\n",
    "    cdf.plot(y=\"new_cases_smoothed_per_million\", ax=ax1, label=name)\n",
    "    cdf.plot(y=\"new_deaths_smoothed_per_million\", ax=ax2, label=name)\n",
    "   \n",
    "    cdf.plot(y=\"death_ratio\", ax=ax3, label=country)\n",
    "    \n",
    "    cdf.plot(y=\"people_fully_vaccinated_per_hundred\", ax=ax4, label=f\"{country}\")\n",
    "#     cdf.plot(\"date\", \"people_vaccinated_per_hundred\", ax=ax3, ls=\"--\", c=ax3.get_lines()[-1].get_color(), label=f\"total\")\n",
    "\n",
    "\n",
    "fr_dep_df[fr_dep_df.lib_dep == \"Ain\"].plot(y=\"tx_incid\", ax=ax5, label=\"Ain\")\n",
    "fr_df.plot(y=\"tx_incid\", ax=ax5, label=\"France\")\n",
    "ch_df[ch_df.geoRegion == \"GE\"].plot(y=\"inzsum7d\", ax=ax5, label=\"Geneva\")\n",
    "ch_df[ch_df.geoRegion == \"VD\"].plot(y=\"inzsum7d\", ax=ax5, label=\"Vaud\")\n",
    "ch_df[ch_df.geoRegion == \"CH\"].plot(y=\"inzsum7d\", ax=ax5, label=\"Switzerland\")\n",
    "ax5.set_yscale(\"log\")\n",
    "ax5.set_ylim(bottom=1)\n",
    "\n",
    "ax5.set_xlabel(\"date\")\n",
    "ax5.set_ylabel(\"cases / $10^5$ / 7d\")\n",
    "\n",
    "ax4.legend(ncol=5)\n",
    "ax3.legend(ncol=5)\n",
    "\n",
    "ax3.set_ylim(bottom=1e-4)\n",
    "ax3.set_yscale(\"log\")\n",
    "\n",
    "ax1.set_ylabel(\"cases per $10^6$\")\n",
    "ax2.set_ylabel(\"deaths per $10^6$\")\n",
    "ax3.set_ylabel(\"deaths per case\")\n",
    "ax4.set_ylabel(\"vaccinated per $10^2$\")\n",
    "\n",
    "fig.align_ylabels()\n",
    "# fig.tight_layout()\n",
    "plt.show()"
   ]
  },
  {
   "cell_type": "code",
   "execution_count": null,
   "id": "86547398-5942-4478-8071-94b0bd80eb17",
   "metadata": {},
   "outputs": [],
   "source": [
    "for country in (\n",
    "    \"CHE\", \n",
    "    \"FRA\", \n",
    "    \"DEU\", \n",
    "    \"GBR\", \n",
    "    \"USA\",\n",
    "):\n",
    "    cdf = df[df.iso_code == country]\n",
    "    fig, axs = plt.subplots(3, 1, figsize=(10, 5), sharex=True)\n",
    "    ax1, ax2, ax3 = axs\n",
    "    cdf.plot(\"date\", \"new_cases_smoothed_per_million\", ax=ax1, c=\"tab:orange\")\n",
    "    cdf.plot(\"date\", \"new_deaths_smoothed_per_million\", ax=ax2, c=\"tab:blue\")\n",
    "    cdf.plot(\"date\", \"people_fully_vaccinated_per_hundred\", ax=ax3, c=\"tab:green\")\n",
    "    cdf.plot(\"date\", \"people_vaccinated_per_hundred\", ax=ax3, c=\"tab:green\", ls=\"--\")\n",
    "    \n",
    "    for ax in axs:\n",
    "        ax.set_ylim(bottom=-1)\n",
    "\n",
    "    ax1.set_title(cdf.location[0])\n",
    "    fig.tight_layout()\n",
    "    plt.show()"
   ]
  },
  {
   "cell_type": "code",
   "execution_count": null,
   "id": "06bae1ea-7d45-41b2-a1e6-0c37a4c4139c",
   "metadata": {},
   "outputs": [],
   "source": [
    "fig, ax = plt.subplots(figsize=(13,5))\n",
    "fr_dep_df[fr_dep_df.lib_dep == \"Ain\"].plot(y=\"tx_incid\", ax=ax, label=\"Incidence Ain\")\n",
    "fr_df.plot(y=\"tx_incid\", ax=ax, label=\"Incidence France\")\n",
    "ch_df[ch_df.geoRegion == \"GE\"].plot(y=\"inzsum7d\", ax=ax, label=\"Incidence Geneva\")\n",
    "ch_df[ch_df.geoRegion == \"VD\"].plot(y=\"inzsum7d\", ax=ax, label=\"Incidence Vaud\")\n",
    "ch_df[ch_df.geoRegion == \"CH\"].plot(y=\"inzsum7d\", ax=ax, label=\"Incidence Switzerland\")\n",
    "ax.set_yscale(\"log\")\n",
    "ax.set_ylim(bottom=1)\n",
    "ax.set_xlabel(\"date\")\n",
    "ax.set_ylabel(\"incidence / $10^5$ inhabitants\")"
   ]
  },
  {
   "cell_type": "code",
   "execution_count": null,
   "id": "f4fd8e3c-a86a-460a-bd81-a29b85aa688a",
   "metadata": {},
   "outputs": [],
   "source": []
  },
  {
   "cell_type": "code",
   "execution_count": null,
   "id": "ef6938c4-559f-46ca-a643-5c967f0ab312",
   "metadata": {},
   "outputs": [],
   "source": []
  },
  {
   "cell_type": "code",
   "execution_count": null,
   "id": "e78e42ce-aa48-4f4f-9eb3-5f7f638452c7",
   "metadata": {},
   "outputs": [],
   "source": []
  },
  {
   "cell_type": "code",
   "execution_count": null,
   "id": "c7d0d4b4-2a87-44bd-bf07-3bfd17966fbf",
   "metadata": {},
   "outputs": [],
   "source": []
  }
 ],
 "metadata": {
  "kernelspec": {
   "display_name": "Default Kernel",
   "language": "python",
   "name": "default_kernel"
  },
  "language_info": {
   "codemirror_mode": {
    "name": "ipython",
    "version": 3
   },
   "file_extension": ".py",
   "mimetype": "text/x-python",
   "name": "python",
   "nbconvert_exporter": "python",
   "pygments_lexer": "ipython3",
   "version": "3.8.10"
  }
 },
 "nbformat": 4,
 "nbformat_minor": 5
}
