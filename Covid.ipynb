{
 "cells": [
  {
   "cell_type": "markdown",
   "id": "e0e22508-c7c2-4ada-ab63-09ed7cd94dc3",
   "metadata": {},
   "source": [
    "# COVID-19 Analysis"
   ]
  },
  {
   "cell_type": "markdown",
   "id": "ac348c51-415a-47c7-80ab-aba3f3a1914a",
   "metadata": {},
   "source": [
    "## Preliminaries"
   ]
  },
  {
   "cell_type": "code",
   "execution_count": null,
   "id": "b8831cf2-a36c-4916-9f0e-0e7d6f35c874",
   "metadata": {},
   "outputs": [],
   "source": [
    "%matplotlib inline\n",
    "# produce vector inline graphics\n",
    "# import matplotlib_inline.backend_inline\n",
    "# matplotlib_inline.backend_inline.set_matplotlib_formats('pdf', 'svg')\n",
    "import matplotlib.pyplot as plt\n",
    "import pandas as pd\n",
    "import numpy as np\n",
    "import tempfile\n",
    "import requests\n",
    "import zipfile\n",
    "import datetime\n",
    "from pathlib import Path\n",
    "from IPython.display import display, Markdown\n",
    "from functools import reduce\n",
    "import humanize"
   ]
  },
  {
   "cell_type": "markdown",
   "id": "8f48af0e",
   "metadata": {},
   "source": []
  },
  {
   "cell_type": "code",
   "execution_count": null,
   "id": "6f625d63-540d-4d2b-a0f8-0715eee3a19e",
   "metadata": {},
   "outputs": [],
   "source": [
    "print(f\"Generated on {datetime.datetime.utcnow()} UTC\")"
   ]
  },
  {
   "cell_type": "markdown",
   "id": "608004df-0090-431a-ab31-423091a0f18f",
   "metadata": {},
   "source": [
    "## Data retrieval\n",
    "### Get OurWorldInData data"
   ]
  },
  {
   "cell_type": "code",
   "execution_count": null,
   "id": "1e47ff78-a03b-4697-9ad7-e670dd0612f8",
   "metadata": {},
   "outputs": [],
   "source": [
    "df = pd.read_csv(\"https://covid.ourworldindata.org/data/owid-covid-data.csv\")\n",
    "df.index = pd.to_datetime(df.date)\n",
    "df[\"death_ratio\"] = df.new_deaths_smoothed_per_million / df.new_cases_smoothed_per_million"
   ]
  },
  {
   "cell_type": "markdown",
   "id": "bcf2e3c6-d060-4db0-845f-c61cd3f65021",
   "metadata": {},
   "source": [
    "### French data"
   ]
  },
  {
   "cell_type": "code",
   "execution_count": null,
   "id": "8895044c-cac2-4a92-b808-dd3627fab20b",
   "metadata": {},
   "outputs": [],
   "source": [
    "fr_dep_df = pd.read_csv(\"https://www.data.gouv.fr/fr/datasets/r/5c4e1452-3850-4b59-b11c-3dd51d7fb8b5\")\n",
    "fr_dep_df.index = pd.to_datetime(fr_dep_df.date, utc=True)\n",
    "\n",
    "fr_df = pd.read_csv(\"https://www.data.gouv.fr/fr/datasets/r/f335f9ea-86e3-4ffa-9684-93c009d5e617\")\n",
    "fr_df.index = pd.to_datetime(fr_df.date, utc=True)"
   ]
  },
  {
   "cell_type": "code",
   "execution_count": null,
   "id": "8e791138-2ce2-4b8d-bd25-1e7a0def918f",
   "metadata": {},
   "outputs": [],
   "source": [
    "# fr_icu_df = pd.read_csv(\"https://www.data.gouv.fr/fr/datasets/r/eceb9fb4-3ebc-4da3-828d-f5939712600a\", sep=\";\")\n",
    "fr_icu_df = pd.read_csv(\"https://www.data.gouv.fr/fr/datasets/r/63352e38-d353-4b54-bfd1-f1b3ee1cabd7\", sep=\";\")\n",
    "fr_icu_df[fr_icu_df.dep == \"01\"]"
   ]
  },
  {
   "cell_type": "code",
   "execution_count": null,
   "id": "92c73f96-586d-4d1c-ad6e-cae9ea8c1908",
   "metadata": {},
   "outputs": [],
   "source": []
  },
  {
   "cell_type": "markdown",
   "id": "5b4134ae-fbde-4325-8aee-79d0804553c1",
   "metadata": {},
   "source": [
    "### Swiss data"
   ]
  },
  {
   "cell_type": "code",
   "execution_count": null,
   "id": "53fdf4db-cdb0-4d3c-a9c1-50a9a46f4548",
   "metadata": {
    "tags": []
   },
   "outputs": [],
   "source": [
    "r = requests.get(\"https://www.covid19.admin.ch/api/data/context\", timeout=10)\n",
    "url = r.json()[\"sources\"][\"zip\"][\"csv\"]\n",
    "# print(url)\n",
    "\n",
    "with tempfile.TemporaryDirectory() as d:\n",
    "    dl = Path(d) / \"dl.zip\"\n",
    "#     print(dl.resolve())\n",
    "    with requests.get(url, stream=True, timeout=10) as r:\n",
    "        with dl.open(\"wb\") as fh:\n",
    "            r.raise_for_status()\n",
    "            for chunk in r.iter_content(chunk_size=8192): \n",
    "                fh.write(chunk)\n",
    "\n",
    "    with zipfile.ZipFile(fh.name) as z:\n",
    "        with z.open(\"data/COVID19Cases_geoRegion.csv\") as fh:\n",
    "            ch_df = pd.read_csv(fh)\n",
    "            \n",
    "        with z.open(\"data/COVID19HospCapacity_geoRegion.csv\") as fh:\n",
    "            ch_icu_df = pd.read_csv(fh)\n",
    "            \n",
    "ch_df.index = pd.to_datetime(ch_df.datum, utc=True)\n",
    "ch_icu_df.index = pd.to_datetime(ch_icu_df.date)\n",
    "\n",
    "# ch_icu_df = ch_icu_df[ch_icu_df.geoRegion == \"CH\"]\n",
    "ch_icu_df = ch_icu_df[[\"geoRegion\", \"ICU_Covid19Patients\", \"ICU_NonCovid19Patients\", \"ICU_FreeCapacity\"]]\n",
    "ch_icu_df.columns = [\"canton\", \"used_covid\", \"used_non_covid\", \"free\"]\n",
    "ch_icu_df.index"
   ]
  },
  {
   "cell_type": "markdown",
   "id": "e9e94c0a-0803-4b3f-8d41-983b67620f28",
   "metadata": {},
   "source": [
    "### German data"
   ]
  },
  {
   "cell_type": "code",
   "execution_count": null,
   "id": "b0279be7-df20-47d0-be33-681eae84d81a",
   "metadata": {},
   "outputs": [],
   "source": [
    "# r = requests.get(\"https://www.rki.de/DE/Content/InfAZ/N/Neuartiges_Coronavirus/Daten/Fallzahlen_Inzidenz_aktualisiert.xlsx?__blob=publicationFile\", timeout=10)\n",
    "# ger_df = pd.read_excel(r.content, engine='openpyxl', sheet_name=\"BL_7-Tage-Fallzahl-aktualisiert\")\n",
    "# ger_df = ger_df.transpose()\n",
    "# states = list(ger_df.iloc[0][4:])\n",
    "# ger_df = ger_df.iloc[1:]\n",
    "# ger_df = ger_df.drop([0, 1, 3], axis=1)\n",
    "# ger_df.columns = [\"date\"] + states\n",
    "# ger_df.index = pd.to_datetime(ger_df.date)\n",
    "# ger_df = ger_df.drop(\"date\", axis=1)\n",
    "# ger_df = ger_df.iloc[:np.argmax(ger_df.isna().all(axis=1))] # remove everything after first all-NaN row\n",
    "# ger_df[\"Germany\"] = ger_df.sum(axis=1)\n",
    "# # ger_df\n",
    "# ger_inc_df = ger_df[[\"Germany\"]].copy()\n",
    "# ger_inc_df.Germany *= 1/83_100_000 * 100_000\n",
    "# # ger_inc_df"
   ]
  },
  {
   "cell_type": "code",
   "execution_count": null,
   "id": "85a274c2-dcf5-4ecf-a1a0-3ebad11e80ad",
   "metadata": {},
   "outputs": [],
   "source": [
    "raw_ger_inc_df = pd.read_csv(\"https://opendata.arcgis.com/api/v3/datasets/ef4b445a53c1406892257fe63129a8ea_0/downloads/data?format=csv&spatialRefId=4326\")\n",
    "total_inhabitants = raw_ger_inc_df.LAN_ew_EWZ.sum()\n",
    "weighted = raw_ger_inc_df.LAN_ew_EWZ/total_inhabitants * raw_ger_inc_df.cases7_bl_per_100k \n",
    "ger_inc_7d = weighted.sum()\n",
    "ger_inc_upd = pd.to_datetime(raw_ger_inc_df.Aktualisierung).iloc[0]\n",
    "# ger_inc_upd\n"
   ]
  },
  {
   "cell_type": "code",
   "execution_count": null,
   "id": "67054fca-e9ee-4065-b3a4-d179ed97fee4",
   "metadata": {},
   "outputs": [],
   "source": [
    "ger_inc_df = pd.DataFrame({\"Germany\": np.array([ger_inc_7d])}, index=np.array([ger_inc_upd]))\n",
    "ger_inc_df"
   ]
  },
  {
   "cell_type": "code",
   "execution_count": null,
   "id": "f0500f50-41c9-4a8d-851b-d538db82ab7c",
   "metadata": {},
   "outputs": [],
   "source": [
    "ger_icu_df = pd.read_csv(\"https://diviexchange.blob.core.windows.net/%24web/zeitreihe-deutschland.csv\")\n",
    "ger_icu_df.Datum = ger_icu_df.Datum.apply(lambda s: s.split(\"T\")[0])\n",
    "ger_icu_df.Datum = pd.to_datetime(ger_icu_df.Datum)\n",
    "ger_icu_df.index = ger_icu_df.Datum\n",
    "ger_icu_df = ger_icu_df.drop([\"Datum\"], axis=1)\n",
    "ger_icu_df = ger_icu_df[ger_icu_df.Bundesland == \"DEUTSCHLAND\"]\n",
    "ger_icu_df = ger_icu_df.groupby(ger_icu_df.index).sum()\n",
    "\n",
    "ger_icu_df[\"used_non_covid\"] = ger_icu_df.Belegte_Intensivbetten - ger_icu_df.Aktuelle_COVID_Faelle_ITS\n",
    "ger_icu_df = ger_icu_df[[\"Aktuelle_COVID_Faelle_ITS\", \"used_non_covid\", \"Freie_Intensivbetten\"]]\n",
    "ger_icu_df.columns = [\"used_covid\", \"used_non_covid\", \"free\"]\n",
    "# ger_icu_df.index"
   ]
  },
  {
   "cell_type": "code",
   "execution_count": null,
   "id": "ed3e5136-ae95-4d15-90da-dcd06405d164",
   "metadata": {},
   "outputs": [],
   "source": [
    "icu_labels = [\"COVID19 ICU patients\", \"Other ICU patients\", \"Free capacity\"]"
   ]
  },
  {
   "cell_type": "code",
   "execution_count": null,
   "id": "25bb1877-d8b0-45a3-9ec5-eede0ee0702c",
   "metadata": {},
   "outputs": [],
   "source": [
    "fig, ax = plt.subplots(figsize=(10,3))\n",
    "ger_icu_df.plot.area(y=[\"used_covid\", \"used_non_covid\", \"free\"], stacked=True, color=[\"tab:green\", \"tab:olive\", \"tab:grey\"], label=icu_labels, ax=ax)\n",
    "(ger_icu_df.used_covid+ger_icu_df.used_non_covid+ger_icu_df.free).plot(ax=ax, label=\"Total ICU capacity\", c=\"black\")\n",
    "ax.set_title(\"Germany\")\n",
    "ax.set_xlabel(\"date\")\n",
    "ax.legend()"
   ]
  },
  {
   "cell_type": "code",
   "execution_count": null,
   "id": "86b68f68-302d-4036-9c3f-c0a00812799e",
   "metadata": {},
   "outputs": [],
   "source": [
    "fig, axs = plt.subplots(3, 1, figsize=(10, 9), sharex=True)\n",
    "for ax, reg in zip(axs, (\"CH\", \"GE\", \"VD\")):\n",
    "    reg_icu_df = ch_icu_df[ch_icu_df.canton == reg]\n",
    "    reg_icu_df.plot.area(y=[\"used_covid\", \"used_non_covid\", \"free\"], stacked=True, color=[\"tab:green\", \"tab:olive\", \"tab:grey\"], label=icu_labels, ax=ax)\n",
    "#     (reg_icu_df.used_covid+reg_icu_df.used_non_covid+reg_icu_df.free).plot(ax=ax, label=\"Total ICU capacity\", c=\"black\")\n",
    "    ax.set_title({\"CH\": \"Switzerland\", \"GE\": \"Geneva\", \"VD\": \"Vaud\"}[reg])\n",
    "    ax.set_xlabel(\"date\")\n",
    "    ax.legend()"
   ]
  },
  {
   "cell_type": "markdown",
   "id": "827bd6fb-ed79-46d3-9b5d-0dc26fd48882",
   "metadata": {},
   "source": [
    "## Incidences"
   ]
  },
  {
   "cell_type": "code",
   "execution_count": null,
   "id": "61c09dcc-e9a6-4022-9af2-64f1e17e3e9f",
   "metadata": {},
   "outputs": [],
   "source": [
    "inc_df = reduce(lambda l, r: l.join(r, how=\"outer\"), [\n",
    "    fr_dep_df[fr_dep_df.lib_dep == \"Ain\"][[\"tx_incid\"]].rename(columns={\"tx_incid\": \"Ain\"}),\n",
    "    fr_df[[\"tx_incid\"]].rename(columns={\"tx_incid\": \"France\"}),\n",
    "    ch_df[ch_df.geoRegion == \"GE\"][[\"inzsum7d\"]].rename(columns={\"inzsum7d\": \"Geneva\"}),\n",
    "    ch_df[ch_df.geoRegion == \"VD\"][[\"inzsum7d\"]].rename(columns={\"inzsum7d\": \"Vaud\"}),\n",
    "    ch_df[ch_df.geoRegion == \"CH\"][[\"inzsum7d\"]].rename(columns={\"inzsum7d\": \"Switzerland\"}),\n",
    "    ger_inc_df,\n",
    "])\n",
    "inc_df.index = inc_df.index.date"
   ]
  },
  {
   "cell_type": "code",
   "execution_count": null,
   "id": "b76c91eb-8547-42ca-ab63-471b76cce5d4",
   "metadata": {},
   "outputs": [],
   "source": [
    "fig, ax = plt.subplots(figsize=(13,5))\n",
    "inc_df[inc_df.index > datetime.date.today() - datetime.timedelta(weeks=10)].plot(ax=ax)\n",
    "# inc_df.tail(7*8).plot(ax=ax)\n",
    "# ax.set_yscale(\"log\")\n",
    "ax.axvline(datetime.date.today(), ls=\"--\", c=\"gray\")\n",
    "ax.set_ylim(bottom=1)\n",
    "ax.set_xlim(right=datetime.date.today() + datetime.timedelta(days=2))\n",
    "ax.set_xlabel(\"date\")\n",
    "ax.set_ylabel(\"incidence / $10^5$ inhabitants\")\n",
    "plt.show()\n",
    "display(inc_df.tail(7))"
   ]
  },
  {
   "cell_type": "code",
   "execution_count": null,
   "id": "0048154f-9800-458a-99b7-562963f00def",
   "metadata": {},
   "outputs": [],
   "source": [
    "idx = inc_df.notna()[::-1].idxmax()\n",
    "tab_df = pd.DataFrame({\"indicence\": [inc_df.loc[i][c] for i, c in zip(idx, inc_df.columns)], \n",
    "                       \"date\": [humanize.naturaltime(dt) for dt in idx]}, index=inc_df.columns)\n",
    "    \n",
    "display(tab_df)"
   ]
  },
  {
   "cell_type": "code",
   "execution_count": null,
   "id": "96eed821-5c3d-4024-8ebc-d9013311b69a",
   "metadata": {},
   "outputs": [],
   "source": [
    "fig, axs = plt.subplots(4, 1, figsize=(10, 10), gridspec_kw={\"height_ratios\": [1, 1, 0.75, 0.75], \"hspace\": 0.07}, sharex=True)\n",
    "ax1, ax2, ax3, ax4 = axs\n",
    "for country in (\n",
    "    \"CHE\", \n",
    "    \"FRA\", \n",
    "    \"DEU\", \n",
    "    \"GBR\", \n",
    "    \"USA\",\n",
    "):\n",
    "    cdf = df[df.iso_code == country]\n",
    "    \n",
    "    name = cdf.location[0]\n",
    "    cdf.plot(y=\"new_cases_smoothed_per_million\", ax=ax1, label=name)\n",
    "    cdf.plot(y=\"new_deaths_smoothed_per_million\", ax=ax2, label=name)\n",
    "   \n",
    "    cdf.plot(y=\"death_ratio\", ax=ax3, label=country)\n",
    "    \n",
    "    cdf.plot(y=\"people_fully_vaccinated_per_hundred\", ax=ax4, label=f\"{country}\")\n",
    "#     cdf.plot(\"date\", \"people_vaccinated_per_hundred\", ax=ax3, ls=\"--\", c=ax3.get_lines()[-1].get_color(), label=f\"total\")\n",
    "\n",
    "\n",
    "# fr_dep_df[fr_dep_df.lib_dep == \"Ain\"].plot(y=\"tx_incid\", ax=ax5, label=\"Ain\")\n",
    "# fr_df.plot(y=\"tx_incid\", ax=ax5, label=\"France\")\n",
    "# ch_df[ch_df.geoRegion == \"GE\"].plot(y=\"inzsum7d\", ax=ax5, label=\"Geneva\")\n",
    "# ch_df[ch_df.geoRegion == \"VD\"].plot(y=\"inzsum7d\", ax=ax5, label=\"Vaud\")\n",
    "# ch_df[ch_df.geoRegion == \"CH\"].plot(y=\"inzsum7d\", ax=ax5, label=\"Switzerland\")\n",
    "# inc_df.plot(ax=ax5)\n",
    "# ax5.set_yscale(\"log\")\n",
    "# ax5.set_ylim(bottom=1)\n",
    "\n",
    "ax4.set_xlabel(\"date\")\n",
    "# ax5.set_ylabel(\"cases / $10^5$ / 7d\")\n",
    "\n",
    "ax4.legend(ncol=5)\n",
    "ax3.legend(ncol=5)\n",
    "\n",
    "ax3.set_ylim(bottom=1e-4)\n",
    "ax3.set_yscale(\"log\")\n",
    "\n",
    "ax1.set_ylabel(\"cases per $10^6$\")\n",
    "ax2.set_ylabel(\"deaths per $10^6$\")\n",
    "ax3.set_ylabel(\"deaths per case\")\n",
    "ax4.set_ylabel(\"vaccinated per $10^2$\")\n",
    "\n",
    "fig.align_ylabels()\n",
    "# fig.tight_layout()\n",
    "plt.show()"
   ]
  },
  {
   "cell_type": "code",
   "execution_count": null,
   "id": "86547398-5942-4478-8071-94b0bd80eb17",
   "metadata": {},
   "outputs": [],
   "source": [
    "for country in (\n",
    "    \"CHE\", \n",
    "    \"FRA\", \n",
    "    \"DEU\", \n",
    "    \"GBR\", \n",
    "    \"USA\",\n",
    "    \"GRC\"\n",
    "):\n",
    "    cdf = df[df.iso_code == country]\n",
    "    display(Markdown(f\"### {cdf.location[0]}\"))\n",
    "    fig, axs = plt.subplots(3, 1, figsize=(10, 5), sharex=True)\n",
    "    ax1, ax2, ax3 = axs\n",
    "    cdf.plot(y=\"new_cases_smoothed_per_million\", ax=ax1, c=\"tab:orange\")\n",
    "    cdf.plot(y=\"new_deaths_smoothed_per_million\", ax=ax2, c=\"tab:blue\")\n",
    "    cdf.plot(y=\"people_fully_vaccinated_per_hundred\", ax=ax3, c=\"tab:green\")\n",
    "    cdf.plot(y=\"people_vaccinated_per_hundred\", ax=ax3, c=\"tab:green\", ls=\"--\")\n",
    "    \n",
    "    for ax in axs:\n",
    "        ax.set_ylim(bottom=-1)\n",
    "\n",
    "    ax1.set_title(cdf.location[0])\n",
    "    fig.tight_layout()\n",
    "    plt.show()"
   ]
  },
  {
   "cell_type": "code",
   "execution_count": null,
   "id": "f4fd8e3c-a86a-460a-bd81-a29b85aa688a",
   "metadata": {},
   "outputs": [],
   "source": []
  },
  {
   "cell_type": "code",
   "execution_count": null,
   "id": "ef6938c4-559f-46ca-a643-5c967f0ab312",
   "metadata": {},
   "outputs": [],
   "source": []
  },
  {
   "cell_type": "code",
   "execution_count": null,
   "id": "e78e42ce-aa48-4f4f-9eb3-5f7f638452c7",
   "metadata": {},
   "outputs": [],
   "source": []
  },
  {
   "cell_type": "code",
   "execution_count": null,
   "id": "c7d0d4b4-2a87-44bd-bf07-3bfd17966fbf",
   "metadata": {},
   "outputs": [],
   "source": []
  }
 ],
 "metadata": {
  "language_info": {
   "codemirror_mode": {
    "name": "ipython",
    "version": 3
   },
   "file_extension": ".py",
   "mimetype": "text/x-python",
   "name": "python",
   "nbconvert_exporter": "python",
   "pygments_lexer": "ipython3",
   "version": "3.8.12"
  }
 },
 "nbformat": 4,
 "nbformat_minor": 5
}
